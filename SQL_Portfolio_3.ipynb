{
 "metadata": {
  "language_info": {
   "codemirror_mode": {
    "name": "ipython",
    "version": 3
   },
   "file_extension": ".py",
   "mimetype": "text/x-python",
   "name": "python",
   "nbconvert_exporter": "python",
   "pygments_lexer": "ipython3",
   "version": "3.8.5-final"
  },
  "orig_nbformat": 2,
  "kernelspec": {
   "name": "python3",
   "display_name": "Python 3",
   "language": "python"
  }
 },
 "nbformat": 4,
 "nbformat_minor": 2,
 "cells": [
  {
   "cell_type": "code",
   "execution_count": 1,
   "metadata": {},
   "outputs": [],
   "source": [
    "from sqlalchemy import create_engine\n",
    "import pandas as pd\n",
    "import random "
   ]
  },
  {
   "cell_type": "code",
   "execution_count": 3,
   "metadata": {},
   "outputs": [],
   "source": [
    "#Define the connection string\n",
    "cnxn_string =(\"postgresql+psycopg2://{username}:{pswd}\"\n",
    "              \"@{host}:{port}/{database}\")\n",
    "\n",
    "engine = create_engine(cnxn_string.format(\n",
    "    username=\"postgres\",\n",
    "    pswd=\"*******\",\n",
    "    host=\"localhost\",\n",
    "    port=5432,\n",
    "    database=\"dvdrental\"))"
   ]
  },
  {
   "source": [
    "# Quick Case 1:\n",
    "* Say we wanted to explore customers first order value ($), How much they have spent over 14 days since that initial order and the total amount they spent over all the time they've been a customer"
   ],
   "cell_type": "markdown",
   "metadata": {}
  },
  {
   "cell_type": "code",
   "execution_count": 8,
   "metadata": {},
   "outputs": [
    {
     "output_type": "execute_result",
     "data": {
      "text/plain": [
       "     customer_id               payment_date  first7_sales  first14_sales  \\\n",
       "0              1 2007-02-14 23:22:38.996577         31.93          31.93   \n",
       "1              2 2007-02-17 19:23:24.996577          2.99          20.94   \n",
       "2              3 2007-02-16 00:02:31.996577         25.96          31.95   \n",
       "3              4 2007-02-15 07:59:54.996577         16.94          16.94   \n",
       "4              5 2007-02-15 20:31:40.996577         19.95          25.93   \n",
       "..           ...                        ...           ...            ...   \n",
       "594          595 2007-02-14 22:16:01.996577          7.98           7.98   \n",
       "595          596 2007-02-16 07:26:44.996577          3.98          17.94   \n",
       "596          597 2007-02-18 13:28:05.996577          7.97          24.93   \n",
       "597          598 2007-02-20 08:38:55.996577          2.99           3.98   \n",
       "598          599 2007-02-18 04:58:19.996577         20.96          20.96   \n",
       "\n",
       "     lifetimevalue  \n",
       "0           114.70  \n",
       "1           123.74  \n",
       "2           130.76  \n",
       "3            81.78  \n",
       "4           134.65  \n",
       "..             ...  \n",
       "594         110.71  \n",
       "595          73.78  \n",
       "596          87.77  \n",
       "597          83.78  \n",
       "598          78.82  \n",
       "\n",
       "[599 rows x 5 columns]"
      ],
      "text/html": "<div>\n<style scoped>\n    .dataframe tbody tr th:only-of-type {\n        vertical-align: middle;\n    }\n\n    .dataframe tbody tr th {\n        vertical-align: top;\n    }\n\n    .dataframe thead th {\n        text-align: right;\n    }\n</style>\n<table border=\"1\" class=\"dataframe\">\n  <thead>\n    <tr style=\"text-align: right;\">\n      <th></th>\n      <th>customer_id</th>\n      <th>payment_date</th>\n      <th>first7_sales</th>\n      <th>first14_sales</th>\n      <th>lifetimevalue</th>\n    </tr>\n  </thead>\n  <tbody>\n    <tr>\n      <th>0</th>\n      <td>1</td>\n      <td>2007-02-14 23:22:38.996577</td>\n      <td>31.93</td>\n      <td>31.93</td>\n      <td>114.70</td>\n    </tr>\n    <tr>\n      <th>1</th>\n      <td>2</td>\n      <td>2007-02-17 19:23:24.996577</td>\n      <td>2.99</td>\n      <td>20.94</td>\n      <td>123.74</td>\n    </tr>\n    <tr>\n      <th>2</th>\n      <td>3</td>\n      <td>2007-02-16 00:02:31.996577</td>\n      <td>25.96</td>\n      <td>31.95</td>\n      <td>130.76</td>\n    </tr>\n    <tr>\n      <th>3</th>\n      <td>4</td>\n      <td>2007-02-15 07:59:54.996577</td>\n      <td>16.94</td>\n      <td>16.94</td>\n      <td>81.78</td>\n    </tr>\n    <tr>\n      <th>4</th>\n      <td>5</td>\n      <td>2007-02-15 20:31:40.996577</td>\n      <td>19.95</td>\n      <td>25.93</td>\n      <td>134.65</td>\n    </tr>\n    <tr>\n      <th>...</th>\n      <td>...</td>\n      <td>...</td>\n      <td>...</td>\n      <td>...</td>\n      <td>...</td>\n    </tr>\n    <tr>\n      <th>594</th>\n      <td>595</td>\n      <td>2007-02-14 22:16:01.996577</td>\n      <td>7.98</td>\n      <td>7.98</td>\n      <td>110.71</td>\n    </tr>\n    <tr>\n      <th>595</th>\n      <td>596</td>\n      <td>2007-02-16 07:26:44.996577</td>\n      <td>3.98</td>\n      <td>17.94</td>\n      <td>73.78</td>\n    </tr>\n    <tr>\n      <th>596</th>\n      <td>597</td>\n      <td>2007-02-18 13:28:05.996577</td>\n      <td>7.97</td>\n      <td>24.93</td>\n      <td>87.77</td>\n    </tr>\n    <tr>\n      <th>597</th>\n      <td>598</td>\n      <td>2007-02-20 08:38:55.996577</td>\n      <td>2.99</td>\n      <td>3.98</td>\n      <td>83.78</td>\n    </tr>\n    <tr>\n      <th>598</th>\n      <td>599</td>\n      <td>2007-02-18 04:58:19.996577</td>\n      <td>20.96</td>\n      <td>20.96</td>\n      <td>78.82</td>\n    </tr>\n  </tbody>\n</table>\n<p>599 rows × 5 columns</p>\n</div>"
     },
     "metadata": {},
     "execution_count": 8
    }
   ],
   "source": [
    "query = \"\"\" \n",
    "        WITH bt as(\n",
    "        SELECT t.* \n",
    "        FROM\n",
    "        (\n",
    "            SELECT p.customer_id, p.payment_date, row_number() OVER (PARTITION BY p.customer_id ORDER BY p.payment_date) as row_number\n",
    "            FROM payment p)t\n",
    "        WHERE t.row_number = 1 \n",
    "        )\n",
    "\n",
    "        SELECT  bt.customer_id, bt.payment_date, \n",
    "\n",
    "                (\n",
    "                    SELECT SUM(p2.amount) FROM payment p2 WHERE p2.customer_id = bt.customer_id \n",
    "                                                        AND p2.payment_date BETWEEN bt.payment_date AND bt.payment_date + INTERVAL '7 days'\n",
    "                ) AS first7_sales,\n",
    "\n",
    "                (\n",
    "                    SELECT SUM(p2.amount) FROM payment p2 WHERE p2.customer_id = bt.customer_id \n",
    "                                                        AND p2.payment_date BETWEEN bt.payment_date AND bt.payment_date + INTERVAL '14 days'\n",
    "                ) AS first14_sales,\n",
    "\n",
    "                (\n",
    "                    SELECT SUM(p2.amount) FROM payment p2 WHERE p2.customer_id = bt.customer_id \n",
    "                ) AS LifeTimeValue\n",
    "\n",
    "        FROM bt\n",
    "\"\"\"\n",
    "\n",
    "result = pd.read_sql_query(query,engine)\n",
    "result"
   ]
  },
  {
   "source": [
    "* Now we can take those results into Tableau, Excel, PBI etc. and explore it with further analysis.\n",
    "* For example we can see that the customer with customer id = 1, did not purchase anything in the time interval of 2 weeks since joining\n",
    "* Feel free to find your own analysis ideas and take it from there\n"
   ],
   "cell_type": "markdown",
   "metadata": {}
  },
  {
   "source": [
    "# Quick Case 2:\n",
    "* We want to calculate the CPA (Cost Per Action) and Profitability Analysis\n",
    "* Using the DB dvdrental, generating synthetic user data and source data\n"
   ],
   "cell_type": "markdown",
   "metadata": {}
  },
  {
   "cell_type": "code",
   "execution_count": null,
   "metadata": {},
   "outputs": [],
   "source": [
    "# Step 1 - Create two new table to populate later\n",
    "\n",
    "create_tables = \"\"\"\n",
    "    CREATE TABLE IF NOT EXISTS customer_sources(\n",
    "        customer_id integer REFERENCES customer(customer_id) ON DELETE RESTRICT,\n",
    "        traffic_source text,\n",
    "        PRIMARY KEY(customer_id)\n",
    "    );\n",
    "\n",
    "    CREATE TABLE IF NOT EXISTS source_spend_all(\n",
    "        spend_source text,\n",
    "        spend integer,\n",
    "        visits integer\n",
    "    );\n",
    "\"\"\"\n",
    "pd.read_sql_query(create_tables,engine)\n",
    "\n"
   ]
  },
  {
   "source": [
    "* customer_sources will be the table with customer_id, traffic source\n",
    "* source_spend_all will be the table with source name (traffic source), spend ($), visits"
   ],
   "cell_type": "markdown",
   "metadata": {}
  },
  {
   "cell_type": "code",
   "execution_count": null,
   "metadata": {},
   "outputs": [],
   "source": [
    "# Step 2 - Generate some data for the tables\n",
    "\n",
    "#Create source\n",
    "sources = ['google / cpc', 'google / organic', 'bing / cpc', 'moviereviews / display', 'direct / none', 'yelp / referral']\n",
    "#Select randomly from list random.choices(list, weights, k=number of items)\n",
    "traffic = random.choices(sources, weights = [20,10,3,5,15,8], k =599)\n",
    "#Create enumarated list\n",
    "ids = [(idx+1,x) for idx,x in enumerate(traffic)]\n",
    "#ids -- uncomment to view\n",
    "\n",
    "#Create dataframe\n",
    "df = pd.DataFrame.from_records(ids)\n",
    "df.columns = ['user_id', 'source_medium']\n",
    "#df.head() -- uncomment to view \n",
    "\n",
    "#Create the data for the 2nd table\n",
    "data = [['direct / none',0,755],['google / organic',750,455],['google / cpc',1606,955], ['bing / cpc',133,45],['moviereviews / display',2886,1200],['yelp / referral',0,99]]\n",
    "#Create dataframe\n",
    "source_spend_all_df = pd.DataFrame(data)\n",
    "#source_spend_all_df.head() -- uncomment to view \n",
    "\n",
    "#Export to csv\n",
    "df.to_csv('customer_sources.csv', sep=',', index=False, header=False)\n",
    "source_spend_all_df.to_csv('source_spend_all.csv', sep=',', index=False, header=False)"
   ]
  },
  {
   "source": [
    "Next step is to populate this info in PgAdmin4"
   ],
   "cell_type": "markdown",
   "metadata": {}
  },
  {
   "cell_type": "code",
   "execution_count": 9,
   "metadata": {},
   "outputs": [],
   "source": [
    "#Step 3 - Check everything was done correctly\n",
    "\n",
    "customer_sources_query = \"SELECT * FROM customer_sources\"\n",
    "source_spend_all_query = \"SELECT * FROM source_spend_all\"\n"
   ]
  },
  {
   "cell_type": "code",
   "execution_count": 10,
   "metadata": {},
   "outputs": [
    {
     "output_type": "execute_result",
     "data": {
      "text/plain": [
       "     customer_id          traffic_source\n",
       "0              1           direct / none\n",
       "1              2           direct / none\n",
       "2              3           direct / none\n",
       "3              4        google / organic\n",
       "4              5        google / organic\n",
       "..           ...                     ...\n",
       "594          595            google / cpc\n",
       "595          596        google / organic\n",
       "596          597           direct / none\n",
       "597          598           direct / none\n",
       "598          599  moviereviews / display\n",
       "\n",
       "[599 rows x 2 columns]"
      ],
      "text/html": "<div>\n<style scoped>\n    .dataframe tbody tr th:only-of-type {\n        vertical-align: middle;\n    }\n\n    .dataframe tbody tr th {\n        vertical-align: top;\n    }\n\n    .dataframe thead th {\n        text-align: right;\n    }\n</style>\n<table border=\"1\" class=\"dataframe\">\n  <thead>\n    <tr style=\"text-align: right;\">\n      <th></th>\n      <th>customer_id</th>\n      <th>traffic_source</th>\n    </tr>\n  </thead>\n  <tbody>\n    <tr>\n      <th>0</th>\n      <td>1</td>\n      <td>direct / none</td>\n    </tr>\n    <tr>\n      <th>1</th>\n      <td>2</td>\n      <td>direct / none</td>\n    </tr>\n    <tr>\n      <th>2</th>\n      <td>3</td>\n      <td>direct / none</td>\n    </tr>\n    <tr>\n      <th>3</th>\n      <td>4</td>\n      <td>google / organic</td>\n    </tr>\n    <tr>\n      <th>4</th>\n      <td>5</td>\n      <td>google / organic</td>\n    </tr>\n    <tr>\n      <th>...</th>\n      <td>...</td>\n      <td>...</td>\n    </tr>\n    <tr>\n      <th>594</th>\n      <td>595</td>\n      <td>google / cpc</td>\n    </tr>\n    <tr>\n      <th>595</th>\n      <td>596</td>\n      <td>google / organic</td>\n    </tr>\n    <tr>\n      <th>596</th>\n      <td>597</td>\n      <td>direct / none</td>\n    </tr>\n    <tr>\n      <th>597</th>\n      <td>598</td>\n      <td>direct / none</td>\n    </tr>\n    <tr>\n      <th>598</th>\n      <td>599</td>\n      <td>moviereviews / display</td>\n    </tr>\n  </tbody>\n</table>\n<p>599 rows × 2 columns</p>\n</div>"
     },
     "metadata": {},
     "execution_count": 10
    }
   ],
   "source": [
    "customer_sources_result = pd.read_sql_query(customer_sources_query,engine)\n",
    "customer_sources_result"
   ]
  },
  {
   "cell_type": "code",
   "execution_count": 11,
   "metadata": {},
   "outputs": [
    {
     "output_type": "execute_result",
     "data": {
      "text/plain": [
       "             spend_source  spend  visits\n",
       "0           direct / none      0     755\n",
       "1        google / organic    750     455\n",
       "2            google / cpc   1606     955\n",
       "3              bing / cpc    133      45\n",
       "4  moviereviews / display   2886    1200\n",
       "5         yelp / referral      0      99"
      ],
      "text/html": "<div>\n<style scoped>\n    .dataframe tbody tr th:only-of-type {\n        vertical-align: middle;\n    }\n\n    .dataframe tbody tr th {\n        vertical-align: top;\n    }\n\n    .dataframe thead th {\n        text-align: right;\n    }\n</style>\n<table border=\"1\" class=\"dataframe\">\n  <thead>\n    <tr style=\"text-align: right;\">\n      <th></th>\n      <th>spend_source</th>\n      <th>spend</th>\n      <th>visits</th>\n    </tr>\n  </thead>\n  <tbody>\n    <tr>\n      <th>0</th>\n      <td>direct / none</td>\n      <td>0</td>\n      <td>755</td>\n    </tr>\n    <tr>\n      <th>1</th>\n      <td>google / organic</td>\n      <td>750</td>\n      <td>455</td>\n    </tr>\n    <tr>\n      <th>2</th>\n      <td>google / cpc</td>\n      <td>1606</td>\n      <td>955</td>\n    </tr>\n    <tr>\n      <th>3</th>\n      <td>bing / cpc</td>\n      <td>133</td>\n      <td>45</td>\n    </tr>\n    <tr>\n      <th>4</th>\n      <td>moviereviews / display</td>\n      <td>2886</td>\n      <td>1200</td>\n    </tr>\n    <tr>\n      <th>5</th>\n      <td>yelp / referral</td>\n      <td>0</td>\n      <td>99</td>\n    </tr>\n  </tbody>\n</table>\n</div>"
     },
     "metadata": {},
     "execution_count": 11
    }
   ],
   "source": [
    "source_spend_all_result = pd.read_sql_query(source_spend_all_query,engine)\n",
    "source_spend_all_result"
   ]
  },
  {
   "source": [
    "Good, all the data was imported properly"
   ],
   "cell_type": "markdown",
   "metadata": {}
  },
  {
   "cell_type": "code",
   "execution_count": 14,
   "metadata": {},
   "outputs": [
    {
     "output_type": "execute_result",
     "data": {
      "text/plain": [
       "             spend_source      spend  count_customers     cpa  \\\n",
       "0  moviereviews / display  $2,886.00               43  $67.00   \n",
       "1            google / cpc  $1,606.00              195   $8.00   \n",
       "2        google / organic    $750.00               96   $7.00   \n",
       "3              bing / cpc    $133.00               38   $3.00   \n",
       "4           direct / none      $0.00              165   $0.00   \n",
       "5         yelp / referral      $0.00               62   $0.00   \n",
       "\n",
       "  total_customer_spend      rpa  \n",
       "0            $4,314.65  $100.34  \n",
       "1           $20,675.23  $106.03  \n",
       "2            $9,621.70  $100.23  \n",
       "3            $3,892.74  $102.44  \n",
       "4           $16,531.48  $100.19  \n",
       "5            $6,276.24  $101.23  "
      ],
      "text/html": "<div>\n<style scoped>\n    .dataframe tbody tr th:only-of-type {\n        vertical-align: middle;\n    }\n\n    .dataframe tbody tr th {\n        vertical-align: top;\n    }\n\n    .dataframe thead th {\n        text-align: right;\n    }\n</style>\n<table border=\"1\" class=\"dataframe\">\n  <thead>\n    <tr style=\"text-align: right;\">\n      <th></th>\n      <th>spend_source</th>\n      <th>spend</th>\n      <th>count_customers</th>\n      <th>cpa</th>\n      <th>total_customer_spend</th>\n      <th>rpa</th>\n    </tr>\n  </thead>\n  <tbody>\n    <tr>\n      <th>0</th>\n      <td>moviereviews / display</td>\n      <td>$2,886.00</td>\n      <td>43</td>\n      <td>$67.00</td>\n      <td>$4,314.65</td>\n      <td>$100.34</td>\n    </tr>\n    <tr>\n      <th>1</th>\n      <td>google / cpc</td>\n      <td>$1,606.00</td>\n      <td>195</td>\n      <td>$8.00</td>\n      <td>$20,675.23</td>\n      <td>$106.03</td>\n    </tr>\n    <tr>\n      <th>2</th>\n      <td>google / organic</td>\n      <td>$750.00</td>\n      <td>96</td>\n      <td>$7.00</td>\n      <td>$9,621.70</td>\n      <td>$100.23</td>\n    </tr>\n    <tr>\n      <th>3</th>\n      <td>bing / cpc</td>\n      <td>$133.00</td>\n      <td>38</td>\n      <td>$3.00</td>\n      <td>$3,892.74</td>\n      <td>$102.44</td>\n    </tr>\n    <tr>\n      <th>4</th>\n      <td>direct / none</td>\n      <td>$0.00</td>\n      <td>165</td>\n      <td>$0.00</td>\n      <td>$16,531.48</td>\n      <td>$100.19</td>\n    </tr>\n    <tr>\n      <th>5</th>\n      <td>yelp / referral</td>\n      <td>$0.00</td>\n      <td>62</td>\n      <td>$0.00</td>\n      <td>$6,276.24</td>\n      <td>$101.23</td>\n    </tr>\n  </tbody>\n</table>\n</div>"
     },
     "metadata": {},
     "execution_count": 14
    }
   ],
   "source": [
    "#STEP 4 - Let's create a DF that will be easy to analyze in our BI tool\n",
    "\n",
    "query = \"\"\"\n",
    "    SELECT t.spend_source, max(t.spend)::money as spend, count(*) as count_customers, \n",
    "        (max(t.spend)/count(*))::money as CPA,\n",
    "        SUM(t.LTV)::money as total_customer_spend,\n",
    "        (SUM(t.LTV)/count(*))::money AS RPA\n",
    "    FROM(\n",
    "        SELECT ssa.*, cs.*, (\n",
    "            SELECT SUM(p.amount) FROM payment p WHERE cs.customer_id = p.customer_id\n",
    "        ) as LTV\n",
    "        FROM source_spend_all ssa \n",
    "        JOIN customer_sources cs ON cs.traffic_source=ssa.spend_source)t\n",
    "    GROUP BY 1\n",
    "    ORDER BY 2 DESC\n",
    "\"\"\"\n",
    "\n",
    "result = pd.read_sql_query(query,engine)\n",
    "result"
   ]
  },
  {
   "source": [
    "* Now we can take those results into Tableau, Excel, PBI etc. and explore it with further analysis.\n",
    "* For example we can see that the moviereviews site with display adds costs way too much, and let's assume we \n",
    "need to pay for movie rights etc. in that case we have a source that is causing us to bleed money.\n",
    "* Feel free to find your own analysis ideas and take it from there"
   ],
   "cell_type": "markdown",
   "metadata": {}
  },
  {
   "source": [
    "# END"
   ],
   "cell_type": "markdown",
   "metadata": {}
  }
 ]
}