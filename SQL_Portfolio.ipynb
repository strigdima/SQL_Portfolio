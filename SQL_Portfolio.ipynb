{
 "metadata": {
  "language_info": {
   "codemirror_mode": {
    "name": "ipython",
    "version": 3
   },
   "file_extension": ".py",
   "mimetype": "text/x-python",
   "name": "python",
   "nbconvert_exporter": "python",
   "pygments_lexer": "ipython3",
   "version": "3.8.5-final"
  },
  "orig_nbformat": 2,
  "kernelspec": {
   "name": "python3",
   "display_name": "Python 3"
  }
 },
 "nbformat": 4,
 "nbformat_minor": 2,
 "cells": [
  {
   "cell_type": "code",
   "execution_count": 4,
   "metadata": {},
   "outputs": [],
   "source": [
    "from sqlalchemy import create_engine\n",
    "import pandas as pd\n",
    "%matplotlib inline"
   ]
  },
  {
   "cell_type": "code",
   "execution_count": 23,
   "metadata": {},
   "outputs": [],
   "source": [
    "#Define the connection string\n",
    "cnxn_string =(\"postgresql+psycopg2://{username}:{pswd}\"\n",
    "              \"@{host}:{port}/{database}\")\n",
    "#print(cnxn_string)"
   ]
  },
  {
   "cell_type": "code",
   "execution_count": 18,
   "metadata": {},
   "outputs": [],
   "source": [
    "#Create DB engine\n",
    "engine = create_engine(cnxn_string.format(\n",
    "    username=\"postgres\",\n",
    "    pswd=\"**********\",\n",
    "    host=\"localhost\",\n",
    "    port=5432,\n",
    "    database=\"sqlda\"))"
   ]
  },
  {
   "source": [
    "## This is where i'll start to query the database using postgresql, python's sqlalchemy engine object and pandas dataframe.\n",
    "## Each case will be explained in the comments.\n"
   ],
   "cell_type": "markdown",
   "metadata": {}
  },
  {
   "cell_type": "code",
   "execution_count": 28,
   "metadata": {},
   "outputs": [],
   "source": [
    "#Using joins to Analyze Sales Dealership:\n",
    "#The head of sales at the company would like a list of all customers who bought a car.\n",
    "#I'll create a query that will return all customer IDs, first names, last names and valid phone numbers of customers who purchased a car.\n",
    "\n",
    "query=\"\"\"SELECT c.customer_id, c.first_name, c.last_name, c.phone\n",
    "FROM sales s \n",
    "INNER JOIN customers c ON s.customer_id=c.customer_id\n",
    "INNER JOIN products p ON s.product_id=p.product_id\n",
    "WHERE p.product_type='automobile' AND c.phone IS NOT NULL\"\"\"\n",
    "\n",
    "query_2=\"\"\"SELECT first_name, last_name, COALESCE(phone, 'NO PHONE') AS phone\n",
    "            FROM customers\n",
    "            ORDER BY 1;\"\"\"\n",
    "\n"
   ]
  },
  {
   "cell_type": "code",
   "execution_count": 27,
   "metadata": {},
   "outputs": [
    {
     "output_type": "execute_result",
     "data": {
      "text/plain": [
       "   customer_id first_name  last_name         phone\n",
       "0        35824     Wyatan     Dickie  405-786-0858\n",
       "1        13206      Stace     Tuison  810-769-8255\n",
       "2         2958    Kirstyn    Draysay  208-534-6858\n",
       "3        32636       Kile    Fishlee  937-207-1484\n",
       "4        26730      Raina  Titterell  304-871-4445"
      ],
      "text/html": "<div>\n<style scoped>\n    .dataframe tbody tr th:only-of-type {\n        vertical-align: middle;\n    }\n\n    .dataframe tbody tr th {\n        vertical-align: top;\n    }\n\n    .dataframe thead th {\n        text-align: right;\n    }\n</style>\n<table border=\"1\" class=\"dataframe\">\n  <thead>\n    <tr style=\"text-align: right;\">\n      <th></th>\n      <th>customer_id</th>\n      <th>first_name</th>\n      <th>last_name</th>\n      <th>phone</th>\n    </tr>\n  </thead>\n  <tbody>\n    <tr>\n      <th>0</th>\n      <td>35824</td>\n      <td>Wyatan</td>\n      <td>Dickie</td>\n      <td>405-786-0858</td>\n    </tr>\n    <tr>\n      <th>1</th>\n      <td>13206</td>\n      <td>Stace</td>\n      <td>Tuison</td>\n      <td>810-769-8255</td>\n    </tr>\n    <tr>\n      <th>2</th>\n      <td>2958</td>\n      <td>Kirstyn</td>\n      <td>Draysay</td>\n      <td>208-534-6858</td>\n    </tr>\n    <tr>\n      <th>3</th>\n      <td>32636</td>\n      <td>Kile</td>\n      <td>Fishlee</td>\n      <td>937-207-1484</td>\n    </tr>\n    <tr>\n      <th>4</th>\n      <td>26730</td>\n      <td>Raina</td>\n      <td>Titterell</td>\n      <td>304-871-4445</td>\n    </tr>\n  </tbody>\n</table>\n</div>"
     },
     "metadata": {},
     "execution_count": 27
    }
   ],
   "source": [
    "result_1 = pd.read_sql_query(query,engine)\n",
    "result_1.head()"
   ]
  },
  {
   "cell_type": "code",
   "execution_count": 29,
   "metadata": {},
   "outputs": [
    {
     "output_type": "execute_result",
     "data": {
      "text/plain": [
       "  first_name  last_name         phone\n",
       "0      Aaren  Whelpdale  607-761-2568\n",
       "1      Aaren     Norrey      NO PHONE\n",
       "2      Aaren      Sadat  504-559-3464\n",
       "3      Aaren     Deeman      NO PHONE\n",
       "4      Aaren     Lamlin  414-937-4628"
      ],
      "text/html": "<div>\n<style scoped>\n    .dataframe tbody tr th:only-of-type {\n        vertical-align: middle;\n    }\n\n    .dataframe tbody tr th {\n        vertical-align: top;\n    }\n\n    .dataframe thead th {\n        text-align: right;\n    }\n</style>\n<table border=\"1\" class=\"dataframe\">\n  <thead>\n    <tr style=\"text-align: right;\">\n      <th></th>\n      <th>first_name</th>\n      <th>last_name</th>\n      <th>phone</th>\n    </tr>\n  </thead>\n  <tbody>\n    <tr>\n      <th>0</th>\n      <td>Aaren</td>\n      <td>Whelpdale</td>\n      <td>607-761-2568</td>\n    </tr>\n    <tr>\n      <th>1</th>\n      <td>Aaren</td>\n      <td>Norrey</td>\n      <td>NO PHONE</td>\n    </tr>\n    <tr>\n      <th>2</th>\n      <td>Aaren</td>\n      <td>Sadat</td>\n      <td>504-559-3464</td>\n    </tr>\n    <tr>\n      <th>3</th>\n      <td>Aaren</td>\n      <td>Deeman</td>\n      <td>NO PHONE</td>\n    </tr>\n    <tr>\n      <th>4</th>\n      <td>Aaren</td>\n      <td>Lamlin</td>\n      <td>414-937-4628</td>\n    </tr>\n  </tbody>\n</table>\n</div>"
     },
     "metadata": {},
     "execution_count": 29
    }
   ],
   "source": [
    "result_2 = pd.read_sql_query(query_2,engine)\n",
    "result_2.head()\n"
   ]
  },
  {
   "cell_type": "code",
   "execution_count": 30,
   "metadata": {},
   "outputs": [],
   "source": [
    "#Generating an Elite Customer Party Guest List using UNION:\n",
    "#A query that will make a list of the company's customers and company employees\n",
    "#Who live in Los Angeles, CA. The guest list should contain the first and last name, and whether the guest is a customer or an employee.\n",
    "\n",
    "query=\"\"\"(\n",
    "            SELECT first_name, last_name, 'Customer' AS guest_type\n",
    "            FROM customers\n",
    "            WHERE city='Los Angeles' AND state='CA'\n",
    "            )\n",
    "            UNION\n",
    "            (\n",
    "            SELECT first_name, last_name, 'Employee' as guest_type\n",
    "            FROM salespeople s\n",
    "            INNER JOIN dealerships d ON s.dealership_id=d.dealership_id\n",
    "            WHERE d.city ='Los Angeles' AND d.state = 'CA'\n",
    "            )\"\"\"\n"
   ]
  },
  {
   "cell_type": "code",
   "execution_count": 31,
   "metadata": {},
   "outputs": [
    {
     "output_type": "execute_result",
     "data": {
      "text/plain": [
       "  first_name   last_name guest_type\n",
       "0      Euell  MacWhirter   Customer\n",
       "1   Martainn     Tordoff   Customer\n",
       "2     Truman     Cutmore   Customer\n",
       "3      Asher      Drogan   Customer\n",
       "4     Kelley   Christley   Customer"
      ],
      "text/html": "<div>\n<style scoped>\n    .dataframe tbody tr th:only-of-type {\n        vertical-align: middle;\n    }\n\n    .dataframe tbody tr th {\n        vertical-align: top;\n    }\n\n    .dataframe thead th {\n        text-align: right;\n    }\n</style>\n<table border=\"1\" class=\"dataframe\">\n  <thead>\n    <tr style=\"text-align: right;\">\n      <th></th>\n      <th>first_name</th>\n      <th>last_name</th>\n      <th>guest_type</th>\n    </tr>\n  </thead>\n  <tbody>\n    <tr>\n      <th>0</th>\n      <td>Euell</td>\n      <td>MacWhirter</td>\n      <td>Customer</td>\n    </tr>\n    <tr>\n      <th>1</th>\n      <td>Martainn</td>\n      <td>Tordoff</td>\n      <td>Customer</td>\n    </tr>\n    <tr>\n      <th>2</th>\n      <td>Truman</td>\n      <td>Cutmore</td>\n      <td>Customer</td>\n    </tr>\n    <tr>\n      <th>3</th>\n      <td>Asher</td>\n      <td>Drogan</td>\n      <td>Customer</td>\n    </tr>\n    <tr>\n      <th>4</th>\n      <td>Kelley</td>\n      <td>Christley</td>\n      <td>Customer</td>\n    </tr>\n  </tbody>\n</table>\n</div>"
     },
     "metadata": {},
     "execution_count": 31
    }
   ],
   "source": [
    "result = pd.read_sql_query(query,engine)\n",
    "result.head()"
   ]
  },
  {
   "cell_type": "code",
   "execution_count": 32,
   "metadata": {},
   "outputs": [],
   "source": [
    "#Using the CASE WHEN Function to Get Regional Lists:\n",
    "#The aim is to create a query that will map various values in a column to other values.\n",
    "\n",
    "query = \"\"\"SELECT c.customer_id,\n",
    "            CASE WHEN c.state IN ('MA','NH','VT','ME','CT','RI') THEN 'New England'\n",
    "            WHEN c.state IN ('GA','FL','MS','AL','LA','KY','VA','NC','SC','TN','VI','WV','AR') THEN 'Southeast'\n",
    "            ELSE 'Other' END AS region\n",
    "            FROM customers c\n",
    "            ORDER BY 1;\"\"\"\n"
   ]
  },
  {
   "cell_type": "code",
   "execution_count": 33,
   "metadata": {},
   "outputs": [
    {
     "output_type": "execute_result",
     "data": {
      "text/plain": [
       "   customer_id     region\n",
       "0            1      Other\n",
       "1            2      Other\n",
       "2            3  Southeast\n",
       "3            4  Southeast\n",
       "4            5  Southeast"
      ],
      "text/html": "<div>\n<style scoped>\n    .dataframe tbody tr th:only-of-type {\n        vertical-align: middle;\n    }\n\n    .dataframe tbody tr th {\n        vertical-align: top;\n    }\n\n    .dataframe thead th {\n        text-align: right;\n    }\n</style>\n<table border=\"1\" class=\"dataframe\">\n  <thead>\n    <tr style=\"text-align: right;\">\n      <th></th>\n      <th>customer_id</th>\n      <th>region</th>\n    </tr>\n  </thead>\n  <tbody>\n    <tr>\n      <th>0</th>\n      <td>1</td>\n      <td>Other</td>\n    </tr>\n    <tr>\n      <th>1</th>\n      <td>2</td>\n      <td>Other</td>\n    </tr>\n    <tr>\n      <th>2</th>\n      <td>3</td>\n      <td>Southeast</td>\n    </tr>\n    <tr>\n      <th>3</th>\n      <td>4</td>\n      <td>Southeast</td>\n    </tr>\n    <tr>\n      <th>4</th>\n      <td>5</td>\n      <td>Southeast</td>\n    </tr>\n  </tbody>\n</table>\n</div>"
     },
     "metadata": {},
     "execution_count": 33
    }
   ],
   "source": [
    "result = pd.read_sql_query(query,engine)\n",
    "result.head()"
   ]
  },
  {
   "cell_type": "code",
   "execution_count": 34,
   "metadata": {},
   "outputs": [],
   "source": [
    "#Building a Sales Model Using SQL Techniques:\n",
    "#Clean and prepare the data for analysis using SQL techniques.\n",
    "#The data science team wants to build a new model to help predict which customers are the best prospects for remarketing.\n",
    "#A new data scientist has joined their team and does not know the database well enough to pull a dataset for this new model.\n",
    "#The responsibility has fallen to the data analyst to help the data scientist prepare and build a dataset to be used to train a model.\n",
    "\n",
    "query = \"\"\" \n",
    "            SELECT c.*,\n",
    "                   p.*,\n",
    "                   COALESCE(s.dealership_id,-1) as dealership_id,\n",
    "                   CASE WHEN (p.base_msrp - s.sales_amount > 500) THEN 1\n",
    "                   ELSE 0 END AS high_savings\n",
    "            FROM sales s \n",
    "            INNER JOIN customers c ON s.customer_id = c.customer_id\n",
    "            INNER JOIN products p ON p.product_id = s.product_id\n",
    "            LEFT JOIN dealerships d ON s.dealership_id = d.dealership_id;\n",
    "\"\"\"\n",
    "\n"
   ]
  },
  {
   "cell_type": "code",
   "execution_count": 35,
   "metadata": {},
   "outputs": [
    {
     "output_type": "execute_result",
     "data": {
      "text/plain": [
       "   customer_id title first_name last_name suffix                      email  \\\n",
       "0            1  None     Arlena   Riveles   None  ariveles0@stumbleupon.com   \n",
       "1            4  None    Jessika    Nussen   None         jnussen3@salon.com   \n",
       "2            5  None     Lonnie   Rembaud   None    lrembaud4@discovery.com   \n",
       "3            6  None     Cortie  Locksley   None     clocksley5@weather.com   \n",
       "4            7  None       Wood   Kennham   None         wkennham6@sohu.com   \n",
       "\n",
       "  gender       ip_address         phone         street_address  ...  \\\n",
       "0      F    98.36.172.246          None                   None  ...   \n",
       "1      F  159.165.138.166  615-824-2506     224 Village Circle  ...   \n",
       "2      F     18.131.58.65  786-499-3431       38 Lindbergh Way  ...   \n",
       "3      M    140.194.59.82          None  6537 Delladonna Drive  ...   \n",
       "4      M  191.190.135.172  407-552-6486       001 Onsgard Park  ...   \n",
       "\n",
       "  date_added product_id         model  year  product_type base_msrp  \\\n",
       "0 2017-04-23          7           Bat  2016       scooter    599.99   \n",
       "1 2017-09-03         12  Lemon Zester  2019       scooter    349.99   \n",
       "2 2014-03-06          3         Lemon  2013       scooter    499.99   \n",
       "3 2013-03-31          3         Lemon  2013       scooter    499.99   \n",
       "4 2011-08-25          6   Model Sigma  2015    automobile  65500.00   \n",
       "\n",
       "   production_start_date production_end_date  dealership_id high_savings  \n",
       "0             2016-10-10                 NaT           -1.0            0  \n",
       "1             2019-02-04                 NaT           11.0            0  \n",
       "2             2013-05-01          2018-12-28           -1.0            0  \n",
       "3             2013-05-01          2018-12-28           -1.0            0  \n",
       "4             2015-04-15          2018-10-01           -1.0            0  \n",
       "\n",
       "[5 rows x 25 columns]"
      ],
      "text/html": "<div>\n<style scoped>\n    .dataframe tbody tr th:only-of-type {\n        vertical-align: middle;\n    }\n\n    .dataframe tbody tr th {\n        vertical-align: top;\n    }\n\n    .dataframe thead th {\n        text-align: right;\n    }\n</style>\n<table border=\"1\" class=\"dataframe\">\n  <thead>\n    <tr style=\"text-align: right;\">\n      <th></th>\n      <th>customer_id</th>\n      <th>title</th>\n      <th>first_name</th>\n      <th>last_name</th>\n      <th>suffix</th>\n      <th>email</th>\n      <th>gender</th>\n      <th>ip_address</th>\n      <th>phone</th>\n      <th>street_address</th>\n      <th>...</th>\n      <th>date_added</th>\n      <th>product_id</th>\n      <th>model</th>\n      <th>year</th>\n      <th>product_type</th>\n      <th>base_msrp</th>\n      <th>production_start_date</th>\n      <th>production_end_date</th>\n      <th>dealership_id</th>\n      <th>high_savings</th>\n    </tr>\n  </thead>\n  <tbody>\n    <tr>\n      <th>0</th>\n      <td>1</td>\n      <td>None</td>\n      <td>Arlena</td>\n      <td>Riveles</td>\n      <td>None</td>\n      <td>ariveles0@stumbleupon.com</td>\n      <td>F</td>\n      <td>98.36.172.246</td>\n      <td>None</td>\n      <td>None</td>\n      <td>...</td>\n      <td>2017-04-23</td>\n      <td>7</td>\n      <td>Bat</td>\n      <td>2016</td>\n      <td>scooter</td>\n      <td>599.99</td>\n      <td>2016-10-10</td>\n      <td>NaT</td>\n      <td>-1.0</td>\n      <td>0</td>\n    </tr>\n    <tr>\n      <th>1</th>\n      <td>4</td>\n      <td>None</td>\n      <td>Jessika</td>\n      <td>Nussen</td>\n      <td>None</td>\n      <td>jnussen3@salon.com</td>\n      <td>F</td>\n      <td>159.165.138.166</td>\n      <td>615-824-2506</td>\n      <td>224 Village Circle</td>\n      <td>...</td>\n      <td>2017-09-03</td>\n      <td>12</td>\n      <td>Lemon Zester</td>\n      <td>2019</td>\n      <td>scooter</td>\n      <td>349.99</td>\n      <td>2019-02-04</td>\n      <td>NaT</td>\n      <td>11.0</td>\n      <td>0</td>\n    </tr>\n    <tr>\n      <th>2</th>\n      <td>5</td>\n      <td>None</td>\n      <td>Lonnie</td>\n      <td>Rembaud</td>\n      <td>None</td>\n      <td>lrembaud4@discovery.com</td>\n      <td>F</td>\n      <td>18.131.58.65</td>\n      <td>786-499-3431</td>\n      <td>38 Lindbergh Way</td>\n      <td>...</td>\n      <td>2014-03-06</td>\n      <td>3</td>\n      <td>Lemon</td>\n      <td>2013</td>\n      <td>scooter</td>\n      <td>499.99</td>\n      <td>2013-05-01</td>\n      <td>2018-12-28</td>\n      <td>-1.0</td>\n      <td>0</td>\n    </tr>\n    <tr>\n      <th>3</th>\n      <td>6</td>\n      <td>None</td>\n      <td>Cortie</td>\n      <td>Locksley</td>\n      <td>None</td>\n      <td>clocksley5@weather.com</td>\n      <td>M</td>\n      <td>140.194.59.82</td>\n      <td>None</td>\n      <td>6537 Delladonna Drive</td>\n      <td>...</td>\n      <td>2013-03-31</td>\n      <td>3</td>\n      <td>Lemon</td>\n      <td>2013</td>\n      <td>scooter</td>\n      <td>499.99</td>\n      <td>2013-05-01</td>\n      <td>2018-12-28</td>\n      <td>-1.0</td>\n      <td>0</td>\n    </tr>\n    <tr>\n      <th>4</th>\n      <td>7</td>\n      <td>None</td>\n      <td>Wood</td>\n      <td>Kennham</td>\n      <td>None</td>\n      <td>wkennham6@sohu.com</td>\n      <td>M</td>\n      <td>191.190.135.172</td>\n      <td>407-552-6486</td>\n      <td>001 Onsgard Park</td>\n      <td>...</td>\n      <td>2011-08-25</td>\n      <td>6</td>\n      <td>Model Sigma</td>\n      <td>2015</td>\n      <td>automobile</td>\n      <td>65500.00</td>\n      <td>2015-04-15</td>\n      <td>2018-10-01</td>\n      <td>-1.0</td>\n      <td>0</td>\n    </tr>\n  </tbody>\n</table>\n<p>5 rows × 25 columns</p>\n</div>"
     },
     "metadata": {},
     "execution_count": 35
    }
   ],
   "source": [
    "result = pd.read_sql_query(query,engine)\n",
    "result.head()"
   ]
  },
  {
   "cell_type": "code",
   "execution_count": 36,
   "metadata": {},
   "outputs": [],
   "source": [
    "#Using Aggregate Functions to Analyze Data:\n",
    "#Analyze the price of a products using different aggregate functions. \n",
    "query = \"\"\"\n",
    "            SELECT product_type, MIN(base_msrp), MAX(base_msrp), AVG(base_msrp), STDDEV(base_msrp)\n",
    "            FROM products\n",
    "            GROUP BY product_type;\n",
    "\"\"\""
   ]
  },
  {
   "cell_type": "code",
   "execution_count": 37,
   "metadata": {},
   "outputs": [
    {
     "output_type": "execute_result",
     "data": {
      "text/plain": [
       "  product_type       min        max           avg        stddev\n",
       "0   automobile  35000.00  115000.00  79250.000000  30477.450681\n",
       "1      scooter    349.99     799.99    578.561429    167.971086"
      ],
      "text/html": "<div>\n<style scoped>\n    .dataframe tbody tr th:only-of-type {\n        vertical-align: middle;\n    }\n\n    .dataframe tbody tr th {\n        vertical-align: top;\n    }\n\n    .dataframe thead th {\n        text-align: right;\n    }\n</style>\n<table border=\"1\" class=\"dataframe\">\n  <thead>\n    <tr style=\"text-align: right;\">\n      <th></th>\n      <th>product_type</th>\n      <th>min</th>\n      <th>max</th>\n      <th>avg</th>\n      <th>stddev</th>\n    </tr>\n  </thead>\n  <tbody>\n    <tr>\n      <th>0</th>\n      <td>automobile</td>\n      <td>35000.00</td>\n      <td>115000.00</td>\n      <td>79250.000000</td>\n      <td>30477.450681</td>\n    </tr>\n    <tr>\n      <th>1</th>\n      <td>scooter</td>\n      <td>349.99</td>\n      <td>799.99</td>\n      <td>578.561429</td>\n      <td>167.971086</td>\n    </tr>\n  </tbody>\n</table>\n</div>"
     },
     "metadata": {},
     "execution_count": 37
    }
   ],
   "source": [
    "result = pd.read_sql_query(query,engine)\n",
    "result.head()"
   ]
  },
  {
   "cell_type": "code",
   "execution_count": 38,
   "metadata": {},
   "outputs": [],
   "source": [
    "#Calculate the Total Number of Customers + Gender in State Using GROUPING SETS:\n",
    "\n",
    "query= \"\"\" \n",
    "            SELECT state, gender, COUNT(*)\n",
    "            FROM customers\n",
    "            GROUP BY GROUPING SETS (\n",
    "                (state),\n",
    "                (gender),\n",
    "                (state,gender)\n",
    "            )\n",
    "            ORDER BY 1,2;\n",
    "\"\"\"\n"
   ]
  },
  {
   "cell_type": "code",
   "execution_count": 39,
   "metadata": {},
   "outputs": [
    {
     "output_type": "execute_result",
     "data": {
      "text/plain": [
       "  state gender  count\n",
       "0    AK      F    101\n",
       "1    AK      M     87\n",
       "2    AK   None    188\n",
       "3    AL      F    433\n",
       "4    AL      M    489"
      ],
      "text/html": "<div>\n<style scoped>\n    .dataframe tbody tr th:only-of-type {\n        vertical-align: middle;\n    }\n\n    .dataframe tbody tr th {\n        vertical-align: top;\n    }\n\n    .dataframe thead th {\n        text-align: right;\n    }\n</style>\n<table border=\"1\" class=\"dataframe\">\n  <thead>\n    <tr style=\"text-align: right;\">\n      <th></th>\n      <th>state</th>\n      <th>gender</th>\n      <th>count</th>\n    </tr>\n  </thead>\n  <tbody>\n    <tr>\n      <th>0</th>\n      <td>AK</td>\n      <td>F</td>\n      <td>101</td>\n    </tr>\n    <tr>\n      <th>1</th>\n      <td>AK</td>\n      <td>M</td>\n      <td>87</td>\n    </tr>\n    <tr>\n      <th>2</th>\n      <td>AK</td>\n      <td>None</td>\n      <td>188</td>\n    </tr>\n    <tr>\n      <th>3</th>\n      <td>AL</td>\n      <td>F</td>\n      <td>433</td>\n    </tr>\n    <tr>\n      <th>4</th>\n      <td>AL</td>\n      <td>M</td>\n      <td>489</td>\n    </tr>\n  </tbody>\n</table>\n</div>"
     },
     "metadata": {},
     "execution_count": 39
    }
   ],
   "source": [
    "result = pd.read_sql_query(query,engine)\n",
    "result.head()"
   ]
  },
  {
   "cell_type": "code",
   "execution_count": 40,
   "metadata": {},
   "outputs": [],
   "source": [
    "#Calculate the Median Price of the Products Table:\n",
    "query = \"\"\"\n",
    "            SELECT percentile_cont(0.5) WITHIN GROUP (ORDER BY base_msrp) AS median\n",
    "            FROM products;\n",
    "\"\"\""
   ]
  },
  {
   "cell_type": "code",
   "execution_count": 41,
   "metadata": {},
   "outputs": [
    {
     "output_type": "execute_result",
     "data": {
      "text/plain": [
       "   median\n",
       "0  749.99"
      ],
      "text/html": "<div>\n<style scoped>\n    .dataframe tbody tr th:only-of-type {\n        vertical-align: middle;\n    }\n\n    .dataframe tbody tr th {\n        vertical-align: top;\n    }\n\n    .dataframe thead th {\n        text-align: right;\n    }\n</style>\n<table border=\"1\" class=\"dataframe\">\n  <thead>\n    <tr style=\"text-align: right;\">\n      <th></th>\n      <th>median</th>\n    </tr>\n  </thead>\n  <tbody>\n    <tr>\n      <th>0</th>\n      <td>749.99</td>\n    </tr>\n  </tbody>\n</table>\n</div>"
     },
     "metadata": {},
     "execution_count": 41
    }
   ],
   "source": [
    "result = pd.read_sql_query(query,engine)\n",
    "result.head()"
   ]
  },
  {
   "cell_type": "code",
   "execution_count": 42,
   "metadata": {},
   "outputs": [],
   "source": [
    "#Calculating and Displaying Data Using the HAVING Clause:\n",
    "query = \"\"\"\n",
    "            SELECT state, COUNT(*)\n",
    "            FROM customers\n",
    "            GROUP BY state\n",
    "            HAVING COUNT(*)>=1000\n",
    "            ORDER BY state;\n",
    "\"\"\""
   ]
  },
  {
   "cell_type": "code",
   "execution_count": 43,
   "metadata": {},
   "outputs": [
    {
     "output_type": "execute_result",
     "data": {
      "text/plain": [
       "  state  count\n",
       "0    CA   5038\n",
       "1    CO   1042\n",
       "2    DC   1447\n",
       "3    FL   3748\n",
       "4    GA   1251"
      ],
      "text/html": "<div>\n<style scoped>\n    .dataframe tbody tr th:only-of-type {\n        vertical-align: middle;\n    }\n\n    .dataframe tbody tr th {\n        vertical-align: top;\n    }\n\n    .dataframe thead th {\n        text-align: right;\n    }\n</style>\n<table border=\"1\" class=\"dataframe\">\n  <thead>\n    <tr style=\"text-align: right;\">\n      <th></th>\n      <th>state</th>\n      <th>count</th>\n    </tr>\n  </thead>\n  <tbody>\n    <tr>\n      <th>0</th>\n      <td>CA</td>\n      <td>5038</td>\n    </tr>\n    <tr>\n      <th>1</th>\n      <td>CO</td>\n      <td>1042</td>\n    </tr>\n    <tr>\n      <th>2</th>\n      <td>DC</td>\n      <td>1447</td>\n    </tr>\n    <tr>\n      <th>3</th>\n      <td>FL</td>\n      <td>3748</td>\n    </tr>\n    <tr>\n      <th>4</th>\n      <td>GA</td>\n      <td>1251</td>\n    </tr>\n  </tbody>\n</table>\n</div>"
     },
     "metadata": {},
     "execution_count": 43
    }
   ],
   "source": [
    "result = pd.read_sql_query(query,engine)\n",
    "result.head()"
   ]
  },
  {
   "cell_type": "code",
   "execution_count": 44,
   "metadata": {},
   "outputs": [],
   "source": [
    "#Check How Much Missing Data is in Customers Table:\n",
    "query = \"\"\"\n",
    "            SELECT SUM(CASE WHEN state IS NOT NULL OR state IN ('') THEN 1 ELSE 0 END)::FLOAT/COUNT(*) AS missing_data\n",
    "            FROM customers;\n",
    "\"\"\""
   ]
  },
  {
   "cell_type": "code",
   "execution_count": 45,
   "metadata": {},
   "outputs": [
    {
     "output_type": "execute_result",
     "data": {
      "text/plain": [
       "   missing_data\n",
       "0       0.89066"
      ],
      "text/html": "<div>\n<style scoped>\n    .dataframe tbody tr th:only-of-type {\n        vertical-align: middle;\n    }\n\n    .dataframe tbody tr th {\n        vertical-align: top;\n    }\n\n    .dataframe thead th {\n        text-align: right;\n    }\n</style>\n<table border=\"1\" class=\"dataframe\">\n  <thead>\n    <tr style=\"text-align: right;\">\n      <th></th>\n      <th>missing_data</th>\n    </tr>\n  </thead>\n  <tbody>\n    <tr>\n      <th>0</th>\n      <td>0.89066</td>\n    </tr>\n  </tbody>\n</table>\n</div>"
     },
     "metadata": {},
     "execution_count": 45
    }
   ],
   "source": [
    "result = pd.read_sql_query(query,engine)\n",
    "result.head()"
   ]
  },
  {
   "cell_type": "code",
   "execution_count": 47,
   "metadata": {},
   "outputs": [],
   "source": [
    "#Analyzing Sales Data Using Aggregate Functions:\n",
    "#1.Calculate the total number of unit sale the company has done.\n",
    "query_1= \"\"\"\n",
    "            SELECT COUNT(*)\n",
    "            FROM sales;\n",
    "\"\"\"\n",
    "#2.Calculate the total sales amount in ($) for each state\n",
    "query_2= \"\"\"\n",
    "            SELECT c.state, SUM(s.sales_amount) AS sale_sum   \n",
    "            FROM sales s\n",
    "            INNER JOIN customers c ON s.customer_id=c.customer_id\n",
    "            GROUP BY c.state\n",
    "            ORDER BY 1;\n",
    "\"\"\"\n",
    "#3. Identify the top five best dealerships in terms of the most units sold (ignore internet sales)\n",
    "query_3= \"\"\"\n",
    "            SELECT s.dealership_id, COUNT(*)\n",
    "            FROM sales s\n",
    "            WHERE s.channel='dealership'\n",
    "            GROUP BY 1\n",
    "            ORDER BY 1 DESC\n",
    "            LIMIT 5;\n",
    "\"\"\"\n",
    "#4.Calculate the average sales amount for each channel, as seen in the sales table, and look at the average sales amount first by channel sales, then by product_id, then by both #together \n",
    "query_4= \"\"\"\n",
    "            SELECT s.channel, s.product_id,AVG(s.sales_amount) AS avg_sales_amount\n",
    "            FROM sales s\n",
    "            GROUP BY GROUPING SETS(\n",
    "                (s.channel),\n",
    "                (s.product_id),\n",
    "                (s.channel,s.product_id)\n",
    "            )\n",
    "            ORDER BY 1,2;\n",
    "\"\"\"\n"
   ]
  },
  {
   "cell_type": "code",
   "execution_count": 50,
   "metadata": {},
   "outputs": [],
   "source": [
    "result_1 = pd.read_sql_query(query_1,engine)\n",
    "result_2 = pd.read_sql_query(query_2,engine)\n",
    "result_3 = pd.read_sql_query(query_3,engine)\n",
    "result_4= pd.read_sql_query(query_4,engine)"
   ]
  },
  {
   "cell_type": "code",
   "execution_count": 51,
   "metadata": {},
   "outputs": [
    {
     "output_type": "execute_result",
     "data": {
      "text/plain": [
       "   count\n",
       "0  37711"
      ],
      "text/html": "<div>\n<style scoped>\n    .dataframe tbody tr th:only-of-type {\n        vertical-align: middle;\n    }\n\n    .dataframe tbody tr th {\n        vertical-align: top;\n    }\n\n    .dataframe thead th {\n        text-align: right;\n    }\n</style>\n<table border=\"1\" class=\"dataframe\">\n  <thead>\n    <tr style=\"text-align: right;\">\n      <th></th>\n      <th>count</th>\n    </tr>\n  </thead>\n  <tbody>\n    <tr>\n      <th>0</th>\n      <td>37711</td>\n    </tr>\n  </tbody>\n</table>\n</div>"
     },
     "metadata": {},
     "execution_count": 51
    }
   ],
   "source": [
    "result_1.head() "
   ]
  },
  {
   "cell_type": "code",
   "execution_count": 52,
   "metadata": {},
   "outputs": [
    {
     "output_type": "execute_result",
     "data": {
      "text/plain": [
       "  state      sale_sum\n",
       "0    AK  1.124269e+06\n",
       "1    AL  4.820334e+06\n",
       "2    AR  1.487924e+06\n",
       "3    AZ  4.109364e+06\n",
       "4    CA  2.794272e+07"
      ],
      "text/html": "<div>\n<style scoped>\n    .dataframe tbody tr th:only-of-type {\n        vertical-align: middle;\n    }\n\n    .dataframe tbody tr th {\n        vertical-align: top;\n    }\n\n    .dataframe thead th {\n        text-align: right;\n    }\n</style>\n<table border=\"1\" class=\"dataframe\">\n  <thead>\n    <tr style=\"text-align: right;\">\n      <th></th>\n      <th>state</th>\n      <th>sale_sum</th>\n    </tr>\n  </thead>\n  <tbody>\n    <tr>\n      <th>0</th>\n      <td>AK</td>\n      <td>1.124269e+06</td>\n    </tr>\n    <tr>\n      <th>1</th>\n      <td>AL</td>\n      <td>4.820334e+06</td>\n    </tr>\n    <tr>\n      <th>2</th>\n      <td>AR</td>\n      <td>1.487924e+06</td>\n    </tr>\n    <tr>\n      <th>3</th>\n      <td>AZ</td>\n      <td>4.109364e+06</td>\n    </tr>\n    <tr>\n      <th>4</th>\n      <td>CA</td>\n      <td>2.794272e+07</td>\n    </tr>\n  </tbody>\n</table>\n</div>"
     },
     "metadata": {},
     "execution_count": 52
    }
   ],
   "source": [
    "result_2.head()"
   ]
  },
  {
   "cell_type": "code",
   "execution_count": 53,
   "metadata": {},
   "outputs": [
    {
     "output_type": "execute_result",
     "data": {
      "text/plain": [
       "   dealership_id  count\n",
       "0           20.0    316\n",
       "1           19.0    834\n",
       "2           18.0   1465\n",
       "3           17.0    431\n",
       "4           16.0    955"
      ],
      "text/html": "<div>\n<style scoped>\n    .dataframe tbody tr th:only-of-type {\n        vertical-align: middle;\n    }\n\n    .dataframe tbody tr th {\n        vertical-align: top;\n    }\n\n    .dataframe thead th {\n        text-align: right;\n    }\n</style>\n<table border=\"1\" class=\"dataframe\">\n  <thead>\n    <tr style=\"text-align: right;\">\n      <th></th>\n      <th>dealership_id</th>\n      <th>count</th>\n    </tr>\n  </thead>\n  <tbody>\n    <tr>\n      <th>0</th>\n      <td>20.0</td>\n      <td>316</td>\n    </tr>\n    <tr>\n      <th>1</th>\n      <td>19.0</td>\n      <td>834</td>\n    </tr>\n    <tr>\n      <th>2</th>\n      <td>18.0</td>\n      <td>1465</td>\n    </tr>\n    <tr>\n      <th>3</th>\n      <td>17.0</td>\n      <td>431</td>\n    </tr>\n    <tr>\n      <th>4</th>\n      <td>16.0</td>\n      <td>955</td>\n    </tr>\n  </tbody>\n</table>\n</div>"
     },
     "metadata": {},
     "execution_count": 53
    }
   ],
   "source": [
    "result_3.head()"
   ]
  },
  {
   "cell_type": "code",
   "execution_count": 54,
   "metadata": {},
   "outputs": [
    {
     "output_type": "execute_result",
     "data": {
      "text/plain": [
       "      channel  product_id  avg_sales_amount\n",
       "0  dealership         3.0        477.253738\n",
       "1  dealership         4.0     109822.274882\n",
       "2  dealership         5.0        664.330132\n",
       "3  dealership         6.0      62563.376384\n",
       "4  dealership         7.0        573.744147"
      ],
      "text/html": "<div>\n<style scoped>\n    .dataframe tbody tr th:only-of-type {\n        vertical-align: middle;\n    }\n\n    .dataframe tbody tr th {\n        vertical-align: top;\n    }\n\n    .dataframe thead th {\n        text-align: right;\n    }\n</style>\n<table border=\"1\" class=\"dataframe\">\n  <thead>\n    <tr style=\"text-align: right;\">\n      <th></th>\n      <th>channel</th>\n      <th>product_id</th>\n      <th>avg_sales_amount</th>\n    </tr>\n  </thead>\n  <tbody>\n    <tr>\n      <th>0</th>\n      <td>dealership</td>\n      <td>3.0</td>\n      <td>477.253738</td>\n    </tr>\n    <tr>\n      <th>1</th>\n      <td>dealership</td>\n      <td>4.0</td>\n      <td>109822.274882</td>\n    </tr>\n    <tr>\n      <th>2</th>\n      <td>dealership</td>\n      <td>5.0</td>\n      <td>664.330132</td>\n    </tr>\n    <tr>\n      <th>3</th>\n      <td>dealership</td>\n      <td>6.0</td>\n      <td>62563.376384</td>\n    </tr>\n    <tr>\n      <th>4</th>\n      <td>dealership</td>\n      <td>7.0</td>\n      <td>573.744147</td>\n    </tr>\n  </tbody>\n</table>\n</div>"
     },
     "metadata": {},
     "execution_count": 54
    }
   ],
   "source": [
    "result_4.head()"
   ]
  },
  {
   "source": [
    "## Window Functions"
   ],
   "cell_type": "markdown",
   "metadata": {}
  },
  {
   "cell_type": "code",
   "execution_count": 55,
   "metadata": {},
   "outputs": [],
   "source": [
    "#Analyzing Customer Data Fill Rates over Time:\n",
    "#To analyze a new feature that will encourage people to fill out the customer survery, the company would like a running total of how many users have filled in their street #address over time.\n",
    "query=\"\"\"\n",
    "            SELECT customer_id, street_address, date_added::DATE,\n",
    "                COUNT(CASE WHEN street_address IS NOT NULL THEN customer_id ELSE NULL END)\n",
    "                    OVER(ORDER BY date_added::DATE) as total_customers_filled_street\n",
    "            FROM customers\n",
    "            ORDER BY date_added;\n",
    "\"\"\"\n"
   ]
  },
  {
   "cell_type": "code",
   "execution_count": 56,
   "metadata": {},
   "outputs": [
    {
     "output_type": "execute_result",
     "data": {
      "text/plain": [
       "   customer_id          street_address  date_added  \\\n",
       "0        35683     1 Cordelia Crossing  2010-03-15   \n",
       "1        30046  13961 Steensland Trail  2010-03-15   \n",
       "2        17099      130 Marcy Crossing  2010-03-15   \n",
       "3         2625          0353 Iowa Road  2010-03-15   \n",
       "4        30555         294 Quincy Hill  2010-03-15   \n",
       "\n",
       "   total_customers_filled_street  \n",
       "0                             10  \n",
       "1                             10  \n",
       "2                             10  \n",
       "3                             10  \n",
       "4                             10  "
      ],
      "text/html": "<div>\n<style scoped>\n    .dataframe tbody tr th:only-of-type {\n        vertical-align: middle;\n    }\n\n    .dataframe tbody tr th {\n        vertical-align: top;\n    }\n\n    .dataframe thead th {\n        text-align: right;\n    }\n</style>\n<table border=\"1\" class=\"dataframe\">\n  <thead>\n    <tr style=\"text-align: right;\">\n      <th></th>\n      <th>customer_id</th>\n      <th>street_address</th>\n      <th>date_added</th>\n      <th>total_customers_filled_street</th>\n    </tr>\n  </thead>\n  <tbody>\n    <tr>\n      <th>0</th>\n      <td>35683</td>\n      <td>1 Cordelia Crossing</td>\n      <td>2010-03-15</td>\n      <td>10</td>\n    </tr>\n    <tr>\n      <th>1</th>\n      <td>30046</td>\n      <td>13961 Steensland Trail</td>\n      <td>2010-03-15</td>\n      <td>10</td>\n    </tr>\n    <tr>\n      <th>2</th>\n      <td>17099</td>\n      <td>130 Marcy Crossing</td>\n      <td>2010-03-15</td>\n      <td>10</td>\n    </tr>\n    <tr>\n      <th>3</th>\n      <td>2625</td>\n      <td>0353 Iowa Road</td>\n      <td>2010-03-15</td>\n      <td>10</td>\n    </tr>\n    <tr>\n      <th>4</th>\n      <td>30555</td>\n      <td>294 Quincy Hill</td>\n      <td>2010-03-15</td>\n      <td>10</td>\n    </tr>\n  </tbody>\n</table>\n</div>"
     },
     "metadata": {},
     "execution_count": 56
    }
   ],
   "source": [
    "result = pd.read_sql_query(query,engine)\n",
    "result.head()"
   ]
  },
  {
   "cell_type": "code",
   "execution_count": 57,
   "metadata": {},
   "outputs": [
    {
     "output_type": "execute_result",
     "data": {
      "text/plain": [
       "   salesperson_id  dealership_id title first_name last_name suffix  \\\n",
       "0              65              1  None      Dukie    Oxteby   None   \n",
       "1              74              1  None     Marcos     Spong   None   \n",
       "2              60              1  None    Eveleen      Mace   None   \n",
       "3              87              1  None      Quent    Wogden   None   \n",
       "4              98              1  None  Englebert   Loraine   None   \n",
       "\n",
       "     username  gender  hire_date termination_date  rank  \n",
       "0   doxteby1s    Male 2015-01-24             None     1  \n",
       "1    mspong21    Male 2015-03-18             None     2  \n",
       "2     emace1n  Female 2015-07-15             None     3  \n",
       "3   qwogden2e    Male 2015-08-17             None     4  \n",
       "4  eloraine2p    Male 2016-01-23             None     5  "
      ],
      "text/html": "<div>\n<style scoped>\n    .dataframe tbody tr th:only-of-type {\n        vertical-align: middle;\n    }\n\n    .dataframe tbody tr th {\n        vertical-align: top;\n    }\n\n    .dataframe thead th {\n        text-align: right;\n    }\n</style>\n<table border=\"1\" class=\"dataframe\">\n  <thead>\n    <tr style=\"text-align: right;\">\n      <th></th>\n      <th>salesperson_id</th>\n      <th>dealership_id</th>\n      <th>title</th>\n      <th>first_name</th>\n      <th>last_name</th>\n      <th>suffix</th>\n      <th>username</th>\n      <th>gender</th>\n      <th>hire_date</th>\n      <th>termination_date</th>\n      <th>rank</th>\n    </tr>\n  </thead>\n  <tbody>\n    <tr>\n      <th>0</th>\n      <td>65</td>\n      <td>1</td>\n      <td>None</td>\n      <td>Dukie</td>\n      <td>Oxteby</td>\n      <td>None</td>\n      <td>doxteby1s</td>\n      <td>Male</td>\n      <td>2015-01-24</td>\n      <td>None</td>\n      <td>1</td>\n    </tr>\n    <tr>\n      <th>1</th>\n      <td>74</td>\n      <td>1</td>\n      <td>None</td>\n      <td>Marcos</td>\n      <td>Spong</td>\n      <td>None</td>\n      <td>mspong21</td>\n      <td>Male</td>\n      <td>2015-03-18</td>\n      <td>None</td>\n      <td>2</td>\n    </tr>\n    <tr>\n      <th>2</th>\n      <td>60</td>\n      <td>1</td>\n      <td>None</td>\n      <td>Eveleen</td>\n      <td>Mace</td>\n      <td>None</td>\n      <td>emace1n</td>\n      <td>Female</td>\n      <td>2015-07-15</td>\n      <td>None</td>\n      <td>3</td>\n    </tr>\n    <tr>\n      <th>3</th>\n      <td>87</td>\n      <td>1</td>\n      <td>None</td>\n      <td>Quent</td>\n      <td>Wogden</td>\n      <td>None</td>\n      <td>qwogden2e</td>\n      <td>Male</td>\n      <td>2015-08-17</td>\n      <td>None</td>\n      <td>4</td>\n    </tr>\n    <tr>\n      <th>4</th>\n      <td>98</td>\n      <td>1</td>\n      <td>None</td>\n      <td>Englebert</td>\n      <td>Loraine</td>\n      <td>None</td>\n      <td>eloraine2p</td>\n      <td>Male</td>\n      <td>2016-01-23</td>\n      <td>None</td>\n      <td>5</td>\n    </tr>\n  </tbody>\n</table>\n</div>"
     },
     "metadata": {},
     "execution_count": 57
    }
   ],
   "source": [
    "#Rank Order of Hiring:\n",
    "#The company would like to promote salespeople at their regional dealerships to management and would like to consider tenure in their decision.\n",
    "#The query will rank the order of users according to their hire date for each dealership.\n",
    "query = \"\"\"\n",
    "            SELECT *, RANK() OVER (PARTITION BY dealership_id ORDER BY hire_date)\n",
    "            FROM salespeople\n",
    "            WHERE termination_date IS NULL;\n",
    "\"\"\"\n",
    "result = pd.read_sql_query(query,engine)\n",
    "result.head()"
   ]
  },
  {
   "source": [
    "#Calculation the 7-day Rolling Average of Sales\n",
    "query=\"\"\"\n",
    "            WITH daily_sales AS(\n",
    "                SELECT sales_transaction_date::DATE,\n",
    "                SUM(sales_amount) AS total_sales\n",
    "                FROM sales\n",
    "                GROUP BY 1),\n",
    "\n",
    "                moving_average_calculation_7 AS(\n",
    "                    SELECT sales_transaction_date, total_sales,\n",
    "                    AVG(total_sales) OVER (ORDER BY sales_transaction_date ROWS BETWEEN 7 PRECEDING AND CURRENT ROW) AS sales_moving_average_7,\n",
    "                    ROW_NUMBER() OVER (ORDER BY sales_transaction_date) AS row_number\n",
    "                    FROM daily_sales\n",
    "                    ORDER BY 1)\n",
    "                    \n",
    "            SELECT sales_transaction_date,\n",
    "                CASE WHEN row_number>=7 THEN sales_moving_average_7 ELSE NULL END AS sales_moving_average_7\n",
    "            FROM moving_average_calculation_7;\n",
    "\"\"\"\n",
    "\n",
    "result = pd.read_sql_query(query,engine)\n",
    "result.head(10)"
   ],
   "cell_type": "code",
   "metadata": {},
   "execution_count": 60,
   "outputs": [
    {
     "output_type": "execute_result",
     "data": {
      "text/plain": [
       "  sales_transaction_date  sales_moving_average_7\n",
       "0             2010-03-10                     NaN\n",
       "1             2010-03-12                     NaN\n",
       "2             2010-03-15                     NaN\n",
       "3             2010-03-17                     NaN\n",
       "4             2010-03-18                     NaN\n",
       "5             2010-03-19                     NaN\n",
       "6             2010-03-21              394.275857\n",
       "7             2010-03-23              394.990125\n",
       "8             2010-03-24              399.990000\n",
       "9             2010-03-25              399.990000"
      ],
      "text/html": "<div>\n<style scoped>\n    .dataframe tbody tr th:only-of-type {\n        vertical-align: middle;\n    }\n\n    .dataframe tbody tr th {\n        vertical-align: top;\n    }\n\n    .dataframe thead th {\n        text-align: right;\n    }\n</style>\n<table border=\"1\" class=\"dataframe\">\n  <thead>\n    <tr style=\"text-align: right;\">\n      <th></th>\n      <th>sales_transaction_date</th>\n      <th>sales_moving_average_7</th>\n    </tr>\n  </thead>\n  <tbody>\n    <tr>\n      <th>0</th>\n      <td>2010-03-10</td>\n      <td>NaN</td>\n    </tr>\n    <tr>\n      <th>1</th>\n      <td>2010-03-12</td>\n      <td>NaN</td>\n    </tr>\n    <tr>\n      <th>2</th>\n      <td>2010-03-15</td>\n      <td>NaN</td>\n    </tr>\n    <tr>\n      <th>3</th>\n      <td>2010-03-17</td>\n      <td>NaN</td>\n    </tr>\n    <tr>\n      <th>4</th>\n      <td>2010-03-18</td>\n      <td>NaN</td>\n    </tr>\n    <tr>\n      <th>5</th>\n      <td>2010-03-19</td>\n      <td>NaN</td>\n    </tr>\n    <tr>\n      <th>6</th>\n      <td>2010-03-21</td>\n      <td>394.275857</td>\n    </tr>\n    <tr>\n      <th>7</th>\n      <td>2010-03-23</td>\n      <td>394.990125</td>\n    </tr>\n    <tr>\n      <th>8</th>\n      <td>2010-03-24</td>\n      <td>399.990000</td>\n    </tr>\n    <tr>\n      <th>9</th>\n      <td>2010-03-25</td>\n      <td>399.990000</td>\n    </tr>\n  </tbody>\n</table>\n</div>"
     },
     "metadata": {},
     "execution_count": 60
    }
   ]
  },
  {
   "cell_type": "code",
   "execution_count": 61,
   "metadata": {},
   "outputs": [
    {
     "output_type": "execute_result",
     "data": {
      "text/plain": [
       "  sales_transaction_date  daily_total    target\n",
       "0             2019-01-01      87695.0  316465.0\n",
       "1             2019-01-02      76150.0  316465.0\n",
       "2             2019-01-03     161270.0  316465.0\n",
       "3             2019-01-04     193210.0  316465.0\n",
       "4             2019-01-05      49470.0  316465.0"
      ],
      "text/html": "<div>\n<style scoped>\n    .dataframe tbody tr th:only-of-type {\n        vertical-align: middle;\n    }\n\n    .dataframe tbody tr th {\n        vertical-align: top;\n    }\n\n    .dataframe thead th {\n        text-align: right;\n    }\n</style>\n<table border=\"1\" class=\"dataframe\">\n  <thead>\n    <tr style=\"text-align: right;\">\n      <th></th>\n      <th>sales_transaction_date</th>\n      <th>daily_total</th>\n      <th>target</th>\n    </tr>\n  </thead>\n  <tbody>\n    <tr>\n      <th>0</th>\n      <td>2019-01-01</td>\n      <td>87695.0</td>\n      <td>316465.0</td>\n    </tr>\n    <tr>\n      <th>1</th>\n      <td>2019-01-02</td>\n      <td>76150.0</td>\n      <td>316465.0</td>\n    </tr>\n    <tr>\n      <th>2</th>\n      <td>2019-01-03</td>\n      <td>161270.0</td>\n      <td>316465.0</td>\n    </tr>\n    <tr>\n      <th>3</th>\n      <td>2019-01-04</td>\n      <td>193210.0</td>\n      <td>316465.0</td>\n    </tr>\n    <tr>\n      <th>4</th>\n      <td>2019-01-05</td>\n      <td>49470.0</td>\n      <td>316465.0</td>\n    </tr>\n  </tbody>\n</table>\n</div>"
     },
     "metadata": {},
     "execution_count": 61
    }
   ],
   "source": [
    "#Team Lunch Motivation:\n",
    "#To help improve sales performance, the sales team has decided to buy lunch for all salespeople every time they beat the figure for the best daily total earnings achieved over #the last 30 days. This query will produce the total sales in $ for a given day and the target the salespeople have to beat for that day starting from Jan 1,2019:\n",
    "\n",
    "\n",
    "query = \"\"\"\n",
    "            WITH daily_sales AS (\n",
    "                SELECT sales_transaction_date::DATE, SUM(sales_amount) AS total_sales\n",
    "                FROM sales\n",
    "                GROUP BY 1\n",
    "            ),\n",
    "                sales_stats_30 AS (\n",
    "                SELECT sales_transaction_date, total_sales, \n",
    "                MAX (total_sales) OVER (ORDER BY sales_transaction_date ROWS BETWEEN 30 PRECEDING AND 1 PRECEDING) AS max_sales_30\n",
    "                FROM daily_sales\n",
    "                ORDER BY 1\n",
    "            )\n",
    "\n",
    "            SELECT sales_transaction_date, ROUND(total_sales) AS daily_total, ROUND(max_sales_30) AS target\n",
    "            FROM sales_stats_30\n",
    "            WHERE sales_transaction_date >='2019-01-01';\n",
    "\"\"\"\n",
    "\n",
    "result = pd.read_sql_query(query,engine)\n",
    "result.head()"
   ]
  },
  {
   "cell_type": "code",
   "execution_count": 62,
   "metadata": {},
   "outputs": [
    {
     "output_type": "execute_result",
     "data": {
      "text/plain": [
       "  sales_transaction_date  total_sales_amount\n",
       "0             2018-01-01          123689.951\n",
       "1             2018-01-02          183859.790\n",
       "2             2018-01-03           40029.854\n",
       "3             2018-01-04          187119.878\n",
       "4             2018-01-05          186459.904"
      ],
      "text/html": "<div>\n<style scoped>\n    .dataframe tbody tr th:only-of-type {\n        vertical-align: middle;\n    }\n\n    .dataframe tbody tr th {\n        vertical-align: top;\n    }\n\n    .dataframe thead th {\n        text-align: right;\n    }\n</style>\n<table border=\"1\" class=\"dataframe\">\n  <thead>\n    <tr style=\"text-align: right;\">\n      <th></th>\n      <th>sales_transaction_date</th>\n      <th>total_sales_amount</th>\n    </tr>\n  </thead>\n  <tbody>\n    <tr>\n      <th>0</th>\n      <td>2018-01-01</td>\n      <td>123689.951</td>\n    </tr>\n    <tr>\n      <th>1</th>\n      <td>2018-01-02</td>\n      <td>183859.790</td>\n    </tr>\n    <tr>\n      <th>2</th>\n      <td>2018-01-03</td>\n      <td>40029.854</td>\n    </tr>\n    <tr>\n      <th>3</th>\n      <td>2018-01-04</td>\n      <td>187119.878</td>\n    </tr>\n    <tr>\n      <th>4</th>\n      <td>2018-01-05</td>\n      <td>186459.904</td>\n    </tr>\n  </tbody>\n</table>\n</div>"
     },
     "metadata": {},
     "execution_count": 62
    }
   ],
   "source": [
    "#Analyzing Sales Using Window Frames and Window Functions:\n",
    "#1.Calculate the total sales amount for all individual months in 2018 using the SUM\n",
    "query=\"\"\"\n",
    "            SELECT sales_transaction_date::DATE,\n",
    "                SUM(sales_amount) as total_sales_amount\n",
    "            FROM sales\n",
    "            WHERE sales_transaction_date>='2018-01-01' AND sales_transaction_date<='2019-01-01'\n",
    "            GROUP BY 1\n",
    "            ORDER BY 1;\n",
    "\"\"\"\n",
    "result = pd.read_sql_query(query,engine)\n",
    "result.head()"
   ]
  },
  {
   "cell_type": "code",
   "execution_count": 63,
   "metadata": {},
   "outputs": [
    {
     "output_type": "execute_result",
     "data": {
      "text/plain": [
       "  sales_transaction_date  deals_moving_avg_30\n",
       "0             2018-01-01        154913.881194\n",
       "1             2018-01-02        158566.135484\n",
       "2             2018-01-03        159543.555097\n",
       "3             2018-01-04        156790.008903\n",
       "4             2018-01-05        158597.430161"
      ],
      "text/html": "<div>\n<style scoped>\n    .dataframe tbody tr th:only-of-type {\n        vertical-align: middle;\n    }\n\n    .dataframe tbody tr th {\n        vertical-align: top;\n    }\n\n    .dataframe thead th {\n        text-align: right;\n    }\n</style>\n<table border=\"1\" class=\"dataframe\">\n  <thead>\n    <tr style=\"text-align: right;\">\n      <th></th>\n      <th>sales_transaction_date</th>\n      <th>deals_moving_avg_30</th>\n    </tr>\n  </thead>\n  <tbody>\n    <tr>\n      <th>0</th>\n      <td>2018-01-01</td>\n      <td>154913.881194</td>\n    </tr>\n    <tr>\n      <th>1</th>\n      <td>2018-01-02</td>\n      <td>158566.135484</td>\n    </tr>\n    <tr>\n      <th>2</th>\n      <td>2018-01-03</td>\n      <td>159543.555097</td>\n    </tr>\n    <tr>\n      <th>3</th>\n      <td>2018-01-04</td>\n      <td>156790.008903</td>\n    </tr>\n    <tr>\n      <th>4</th>\n      <td>2018-01-05</td>\n      <td>158597.430161</td>\n    </tr>\n  </tbody>\n</table>\n</div>"
     },
     "metadata": {},
     "execution_count": 63
    }
   ],
   "source": [
    "#2.Calculate the rolling 30-day average for the daily number of sales deals\n",
    "query=\"\"\"\n",
    "            WITH daily_sales AS (\n",
    "                SELECT sales_transaction_date::DATE, SUM(sales_amount) AS total_sales\n",
    "                FROM sales\n",
    "                GROUP BY 1),\n",
    "                \n",
    "                sales_stats_30 AS (\n",
    "                SELECT sales_transaction_date, total_sales, \n",
    "                AVG (total_sales) OVER (ORDER BY sales_transaction_date ROWS BETWEEN 30 PRECEDING AND CURRENT ROW) AS moving_avg,\n",
    "                ROW_NUMBER() OVER (ORDER BY sales_transaction_date) AS row_number\n",
    "                FROM daily_sales\n",
    "                ORDER BY 1)\n",
    "\n",
    "            SELECT sales_transaction_date,\n",
    "                CASE WHEN row_number>=30 THEN moving_avg ELSE NULL END AS deals_moving_avg_30\n",
    "            FROM sales_stats_30\n",
    "            WHERE sales_transaction_date>='2018-01-01' AND sales_transaction_date <='2019-01-01';\n",
    "\n",
    "\"\"\"\n",
    "result = pd.read_sql_query(query,engine)\n",
    "result.head()"
   ]
  },
  {
   "cell_type": "code",
   "execution_count": 64,
   "metadata": {},
   "outputs": [
    {
     "output_type": "execute_result",
     "data": {
      "text/plain": [
       "   dealership_id  total_sales_amount  decile\n",
       "0            8.0         1421433.062       1\n",
       "1           13.0         2087358.245       1\n",
       "2           20.0         2181877.637       2\n",
       "3           17.0         2601206.827       2\n",
       "4            9.0         2627492.122       3"
      ],
      "text/html": "<div>\n<style scoped>\n    .dataframe tbody tr th:only-of-type {\n        vertical-align: middle;\n    }\n\n    .dataframe tbody tr th {\n        vertical-align: top;\n    }\n\n    .dataframe thead th {\n        text-align: right;\n    }\n</style>\n<table border=\"1\" class=\"dataframe\">\n  <thead>\n    <tr style=\"text-align: right;\">\n      <th></th>\n      <th>dealership_id</th>\n      <th>total_sales_amount</th>\n      <th>decile</th>\n    </tr>\n  </thead>\n  <tbody>\n    <tr>\n      <th>0</th>\n      <td>8.0</td>\n      <td>1421433.062</td>\n      <td>1</td>\n    </tr>\n    <tr>\n      <th>1</th>\n      <td>13.0</td>\n      <td>2087358.245</td>\n      <td>1</td>\n    </tr>\n    <tr>\n      <th>2</th>\n      <td>20.0</td>\n      <td>2181877.637</td>\n      <td>2</td>\n    </tr>\n    <tr>\n      <th>3</th>\n      <td>17.0</td>\n      <td>2601206.827</td>\n      <td>2</td>\n    </tr>\n    <tr>\n      <th>4</th>\n      <td>9.0</td>\n      <td>2627492.122</td>\n      <td>3</td>\n    </tr>\n  </tbody>\n</table>\n</div>"
     },
     "metadata": {},
     "execution_count": 64
    }
   ],
   "source": [
    "#3.Calculate which decile each dealership would be in compared to other dealerships based on the total sales amount\n",
    "query=\"\"\"\n",
    "            WITH total_dealership_sales AS(\n",
    "                SELECT dealership_id, SUM(sales_amount) AS total_sales_amount\n",
    "                FROM sales\n",
    "                WHERE sales_transaction_date>='2008-01-01' AND sales_transaction_date<='2019-01-01'\n",
    "                    AND channel='dealership'\n",
    "                GROUP BY 1\n",
    "            )\n",
    "\n",
    "            SELECT *, NTILE(10) OVER (ORDER BY total_sales_amount) AS decile\n",
    "            FROM total_dealership_sales;\n",
    "\"\"\"\n",
    "result = pd.read_sql_query(query,engine)\n",
    "result.head()"
   ]
  }
 ]
}